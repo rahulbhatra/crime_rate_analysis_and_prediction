{
  "nbformat": 4,
  "nbformat_minor": 0,
  "metadata": {
    "colab": {
      "name": "RNN_Univariant_Monthly.ipynb",
      "provenance": [],
      "collapsed_sections": []
    },
    "kernelspec": {
      "display_name": "Python 3",
      "name": "python3"
    },
    "language_info": {
      "name": "python"
    }
  },
  "cells": [
    {
      "cell_type": "code",
      "metadata": {
        "id": "HTiYF_1UrE6b"
      },
      "source": [
        "import numpy as np\n",
        "import matplotlib.pyplot as plt\n",
        "import pandas as pd\n",
        "import math\n",
        "from keras.models import Sequential\n",
        "from keras.layers import Dense\n",
        "from keras.layers import LSTM\n",
        "from sklearn.preprocessing import MinMaxScaler\n",
        "from sklearn.metrics import mean_squared_error, accuracy_score, r2_score as get_r2_score, mean_absolute_error"
      ],
      "execution_count": null,
      "outputs": []
    },
    {
      "cell_type": "code",
      "metadata": {
        "colab": {
          "base_uri": "https://localhost:8080/"
        },
        "id": "DtcVXXeXrLsJ",
        "outputId": "a87e6abd-4256-443b-ffec-c9a20badacf2"
      },
      "source": [
        "from google.colab import drive\n",
        "drive.mount('/content/drive')\n",
        "!pip install -U -q PyDrive\n",
        "from pydrive.auth import GoogleAuth\n",
        "from pydrive.drive import GoogleDrive\n",
        "from google.colab import auth\n",
        "from oauth2client.client import GoogleCredentials\n",
        "auth.authenticate_user()\n",
        "gauth = GoogleAuth()\n",
        "gauth.credentials = GoogleCredentials.get_application_default()\n",
        "drive = GoogleDrive(gauth)"
      ],
      "execution_count": null,
      "outputs": [
        {
          "output_type": "stream",
          "text": [
            "Mounted at /content/drive\n"
          ],
          "name": "stdout"
        }
      ]
    },
    {
      "cell_type": "code",
      "metadata": {
        "id": "J-evXym7rc1B"
      },
      "source": [
        "downloaded = drive.CreateFile({'id':'15X31Q-RYIUfEKXkTeszOOfkICqQf8Zj4'}) \n",
        "downloaded.GetContentFile('ChicagoCrimeCountMonthly.csv')  \n",
        "data = pd.read_csv('ChicagoCrimeCountMonthly.csv', error_bad_lines=False)\n",
        "data['Date'] = pd.to_datetime(data['Date'], errors='coerce')\n",
        "data[\"Date\"] = data[\"Date\"].dt.strftime(\"%m/%d/%Y\")\n",
        "data.columns = ['Date', 'Crime Count']"
      ],
      "execution_count": null,
      "outputs": []
    },
    {
      "cell_type": "code",
      "metadata": {
        "colab": {
          "base_uri": "https://localhost:8080/",
          "height": 419
        },
        "id": "E3G3IMH0fUrY",
        "outputId": "97113b38-472e-4fa0-ef43-938a05ee452b"
      },
      "source": [
        "data"
      ],
      "execution_count": null,
      "outputs": [
        {
          "output_type": "execute_result",
          "data": {
            "text/html": [
              "<div>\n",
              "<style scoped>\n",
              "    .dataframe tbody tr th:only-of-type {\n",
              "        vertical-align: middle;\n",
              "    }\n",
              "\n",
              "    .dataframe tbody tr th {\n",
              "        vertical-align: top;\n",
              "    }\n",
              "\n",
              "    .dataframe thead th {\n",
              "        text-align: right;\n",
              "    }\n",
              "</style>\n",
              "<table border=\"1\" class=\"dataframe\">\n",
              "  <thead>\n",
              "    <tr style=\"text-align: right;\">\n",
              "      <th></th>\n",
              "      <th>Date</th>\n",
              "      <th>Crime Count</th>\n",
              "    </tr>\n",
              "  </thead>\n",
              "  <tbody>\n",
              "    <tr>\n",
              "      <th>0</th>\n",
              "      <td>01/31/2001</td>\n",
              "      <td>74995</td>\n",
              "    </tr>\n",
              "    <tr>\n",
              "      <th>1</th>\n",
              "      <td>02/28/2001</td>\n",
              "      <td>66288</td>\n",
              "    </tr>\n",
              "    <tr>\n",
              "      <th>2</th>\n",
              "      <td>03/31/2001</td>\n",
              "      <td>53122</td>\n",
              "    </tr>\n",
              "    <tr>\n",
              "      <th>3</th>\n",
              "      <td>04/30/2001</td>\n",
              "      <td>40166</td>\n",
              "    </tr>\n",
              "    <tr>\n",
              "      <th>4</th>\n",
              "      <td>05/31/2001</td>\n",
              "      <td>41876</td>\n",
              "    </tr>\n",
              "    <tr>\n",
              "      <th>...</th>\n",
              "      <td>...</td>\n",
              "      <td>...</td>\n",
              "    </tr>\n",
              "    <tr>\n",
              "      <th>188</th>\n",
              "      <td>09/30/2016</td>\n",
              "      <td>23235</td>\n",
              "    </tr>\n",
              "    <tr>\n",
              "      <th>189</th>\n",
              "      <td>10/31/2016</td>\n",
              "      <td>23314</td>\n",
              "    </tr>\n",
              "    <tr>\n",
              "      <th>190</th>\n",
              "      <td>11/30/2016</td>\n",
              "      <td>21140</td>\n",
              "    </tr>\n",
              "    <tr>\n",
              "      <th>191</th>\n",
              "      <td>12/31/2016</td>\n",
              "      <td>19580</td>\n",
              "    </tr>\n",
              "    <tr>\n",
              "      <th>192</th>\n",
              "      <td>01/31/2017</td>\n",
              "      <td>11357</td>\n",
              "    </tr>\n",
              "  </tbody>\n",
              "</table>\n",
              "<p>193 rows × 2 columns</p>\n",
              "</div>"
            ],
            "text/plain": [
              "           Date  Crime Count\n",
              "0    01/31/2001        74995\n",
              "1    02/28/2001        66288\n",
              "2    03/31/2001        53122\n",
              "3    04/30/2001        40166\n",
              "4    05/31/2001        41876\n",
              "..          ...          ...\n",
              "188  09/30/2016        23235\n",
              "189  10/31/2016        23314\n",
              "190  11/30/2016        21140\n",
              "191  12/31/2016        19580\n",
              "192  01/31/2017        11357\n",
              "\n",
              "[193 rows x 2 columns]"
            ]
          },
          "metadata": {
            "tags": []
          },
          "execution_count": 4
        }
      ]
    },
    {
      "cell_type": "code",
      "metadata": {
        "colab": {
          "base_uri": "https://localhost:8080/"
        },
        "id": "-KPEix7R3FYQ",
        "outputId": "09738bf7-7d9f-4a6e-e5f6-717ebd04eb5b"
      },
      "source": [
        "crime_counts = np.asarray(data['Crime Count'].values)\n",
        "print(len(crime_counts))\n",
        "dates = np.asarray(data['Date'].values)\n",
        "print(len(dates))"
      ],
      "execution_count": null,
      "outputs": [
        {
          "output_type": "stream",
          "text": [
            "193\n",
            "193\n"
          ],
          "name": "stdout"
        }
      ]
    },
    {
      "cell_type": "code",
      "metadata": {
        "id": "e-k5WMITjFP0"
      },
      "source": [
        "def measure_error(actual, predicted):\n",
        "  rmse = np.sqrt(mean_squared_error(actual, predicted))\n",
        "  r2 = get_r2_score(actual, predicted)\n",
        "  return rmse, r2 "
      ],
      "execution_count": null,
      "outputs": []
    },
    {
      "cell_type": "code",
      "metadata": {
        "id": "WvVF__jA0TJo"
      },
      "source": [
        "def fit_model(X, y, n_steps, n_features):\n",
        "  # define model\n",
        "  model = Sequential()\n",
        "  model.add(LSTM(50, activation='relu', input_shape=(n_steps, n_features)))\n",
        "  # model.add(Dense(50, activation='relu'))\n",
        "  model.add(Dense(50, activation='relu'))\n",
        "  model.add(Dense(1))\n",
        "  model.compile(optimizer='adam', loss='mse')\n",
        "  # fit model\n",
        "  print(model.summary())\n",
        "  print(len(X), len(y))\n",
        "  model.fit(X, y, epochs=1000, verbose=0)\n",
        "\n",
        "  return model"
      ],
      "execution_count": null,
      "outputs": []
    },
    {
      "cell_type": "code",
      "metadata": {
        "id": "k7AhcjRJ09cw"
      },
      "source": [
        "def split_sequence(crime_counts, dates, n_steps):\n",
        "  X, y, X_dates, y_date = list(), list(), list(), list()\n",
        "  for i in range(len(crime_counts)):\n",
        "    end_ix = i + n_steps\n",
        "    if end_ix > len(crime_counts)-1:\n",
        "      break\n",
        "    seq_x, seq_y = crime_counts[i : end_ix], crime_counts[end_ix]\n",
        "    seq_x_dates, seq_y_date = dates[i : end_ix], dates[end_ix]\n",
        "    X.append(seq_x)\n",
        "    y.append(seq_y)\n",
        "    X_dates.append(seq_x_dates)\n",
        "    y_date.append(seq_y_date)\n",
        "  return np.array(X), np.array(y), np.array(X_dates), np.array(y_date)"
      ],
      "execution_count": null,
      "outputs": []
    },
    {
      "cell_type": "code",
      "metadata": {
        "id": "UaZSoVKw1MzL"
      },
      "source": [
        "def split_train_test_data(X, y, train_size, test_size):\n",
        "  return X[0: train_size], X[train_size: train_size + test_size], y[0: train_size], y[train_size: train_size + test_size] "
      ],
      "execution_count": null,
      "outputs": []
    },
    {
      "cell_type": "code",
      "metadata": {
        "id": "4Iboz-1PjRwy"
      },
      "source": [
        "def evaluation_on__rolling_forecasting(crime_counts, dates, train_size, test_size):\n",
        "  \n",
        "  # defines how many time we want to insert into model to predict next timing\n",
        "  n_steps = 40\n",
        "  # split into samples\n",
        "  X, y, X_dates, y_date = split_sequence(crime_counts, dates, n_steps)\n",
        "  record_size = len(X)\n",
        "\n",
        "  # reshape from [samples, timesteps] into [samples, timesteps, features]\n",
        "  n_features = 1\n",
        "  # print(X.shape[0], X.shape[1])\n",
        "  X = X.reshape((X.shape[0], X.shape[1], n_features))\n",
        "  X_dates = X_dates.reshape((X_dates.shape[0], X_dates.shape[1], n_features))\n",
        "  rmse_scores = []\n",
        "  r2_scores = []\n",
        "  predictions = []\n",
        "  y_test = []\n",
        "  y_test_date = []\n",
        "  model = None\n",
        "  print(\"train_size\", train_size, \"test_size\", test_size, \"record_size\", record_size)\n",
        "  for i in range(train_size, record_size - test_size):\n",
        "    y_test = []\n",
        "    y_test_date = []\n",
        "    X_train, X_test, y_train, y_test= split_train_test_data(X , y, i, test_size)\n",
        "    X_train_dates, X_test_dates, y_train_date, y_test_date = split_train_test_data(X_dates , y_date, i, test_size)\n",
        "\n",
        "    model = fit_model(X_train, y_train, n_steps, n_features)\n",
        "    print(\"Done Training The Data\")\n",
        "\n",
        "    predictions = []\n",
        "    for i in range(0, len(X_test)):\n",
        "      x_input = np.array(X_test[i])\n",
        "      x_input = x_input.reshape((1, n_steps, n_features))\n",
        "      yhat = model.predict(x_input, verbose=0)\n",
        "      # print('Date', y_test_date[i])\n",
        "      # print(\"Time Series Values\", X_test[i])\n",
        "      print(\"Predicted Crime Count\", yhat[0][0], \"Real Crime Count\", y_test[i])\n",
        "      predictions.append(yhat[0][0])\n",
        "    print(\"Done Predicting The Data\")\n",
        "    rmse, r2 = measure_error(y_test, predictions)\n",
        "    print(' RMSE: %.3f \\t R2 score: %.3f' % (rmse, r2))\n",
        "    rmse_scores.append(rmse)\n",
        "    r2_scores.append(r2)\n",
        "  return rmse_scores, r2_scores, model, predictions, y_test, y_test_date"
      ],
      "execution_count": null,
      "outputs": []
    },
    {
      "cell_type": "code",
      "metadata": {
        "id": "6b1ca-M1QgFP"
      },
      "source": [
        "def summarize(rmse_scores, r2_scores):\n",
        "    rmse_scores = [i for i in rmse_scores]\n",
        "    r2_scores = [i for i in r2_scores]\n",
        "    rmse_mean, rmse_std = np.mean(rmse_scores), np.std(rmse_scores)\n",
        "    r2_mean, r2_std = np.mean(r2_scores), np.std(r2_scores)\n",
        "    print('RMSE: %.3f (+/- %.3f)' % (rmse_mean, rmse_std))\n",
        "    print('R2: %.3f (+/- %.3f)' % (r2_mean, r2_std))\n",
        "    plt.boxplot(rmse_scores)\n",
        "    plt.show()\n",
        "    plt.boxplot(r2_scores)\n",
        "    plt.show()"
      ],
      "execution_count": null,
      "outputs": []
    },
    {
      "cell_type": "code",
      "metadata": {
        "colab": {
          "background_save": true,
          "base_uri": "https://localhost:8080/"
        },
        "id": "mxDFfMWUjWOq",
        "outputId": "c3729099-1ca3-4ea1-895b-22a6ec331be0"
      },
      "source": [
        "train_size=138\n",
        "test_size = 12\n",
        "rmse_scores, r2_scores, model, predictions, y_test, y_test_date = evaluation_on__rolling_forecasting(crime_counts, dates, train_size, test_size)"
      ],
      "execution_count": null,
      "outputs": [
        {
          "output_type": "stream",
          "text": [
            "train_size 138 test_size 12 record_size 153\n",
            "Model: \"sequential_18\"\n",
            "_________________________________________________________________\n",
            "Layer (type)                 Output Shape              Param #   \n",
            "=================================================================\n",
            "lstm_18 (LSTM)               (None, 50)                10400     \n",
            "_________________________________________________________________\n",
            "dense_47 (Dense)             (None, 50)                2550      \n",
            "_________________________________________________________________\n",
            "dense_48 (Dense)             (None, 1)                 51        \n",
            "=================================================================\n",
            "Total params: 13,001\n",
            "Trainable params: 13,001\n",
            "Non-trainable params: 0\n",
            "_________________________________________________________________\n",
            "None\n",
            "138 138\n",
            "Done Training The Data\n",
            "Predicted Crime Count 13062.691 Real Crime Count 20486\n",
            "Predicted Crime Count 7657.9644 Real Crime Count 21006\n",
            "Predicted Crime Count 9276.726 Real Crime Count 20375\n",
            "Predicted Crime Count 22947.145 Real Crime Count 18590\n",
            "Predicted Crime Count 13349.09 Real Crime Count 21878\n",
            "Predicted Crime Count 26540.635 Real Crime Count 20962\n",
            "Predicted Crime Count 16960.488 Real Crime Count 23332\n",
            "Predicted Crime Count 17067.95 Real Crime Count 23791\n",
            "Predicted Crime Count 20035.766 Real Crime Count 24646\n",
            "Predicted Crime Count 13684.393 Real Crime Count 24619\n",
            "Predicted Crime Count 22154.102 Real Crime Count 23235\n",
            "Predicted Crime Count 23587.393 Real Crime Count 23314\n",
            "Done Predicting The Data\n",
            " RMSE: 7676.555 \t R2 score: -16.539\n",
            "Model: \"sequential_19\"\n",
            "_________________________________________________________________\n",
            "Layer (type)                 Output Shape              Param #   \n",
            "=================================================================\n",
            "lstm_19 (LSTM)               (None, 50)                10400     \n",
            "_________________________________________________________________\n",
            "dense_49 (Dense)             (None, 50)                2550      \n",
            "_________________________________________________________________\n",
            "dense_50 (Dense)             (None, 1)                 51        \n",
            "=================================================================\n",
            "Total params: 13,001\n",
            "Trainable params: 13,001\n",
            "Non-trainable params: 0\n",
            "_________________________________________________________________\n",
            "None\n",
            "139 139\n",
            "Done Training The Data\n",
            "Predicted Crime Count 21875.25 Real Crime Count 21006\n",
            "Predicted Crime Count 22346.385 Real Crime Count 20375\n",
            "Predicted Crime Count 22071.264 Real Crime Count 18590\n",
            "Predicted Crime Count 21623.459 Real Crime Count 21878\n",
            "Predicted Crime Count 23195.184 Real Crime Count 20962\n",
            "Predicted Crime Count 22937.623 Real Crime Count 23332\n",
            "Predicted Crime Count 22037.396 Real Crime Count 23791\n",
            "Predicted Crime Count 23632.518 Real Crime Count 24646\n",
            "Predicted Crime Count 23687.107 Real Crime Count 24619\n",
            "Predicted Crime Count 23122.988 Real Crime Count 23235\n",
            "Predicted Crime Count 22365.557 Real Crime Count 23314\n",
            "Predicted Crime Count 22203.668 Real Crime Count 21140\n",
            "Done Predicting The Data\n",
            " RMSE: 1554.101 \t R2 score: 0.247\n",
            "Model: \"sequential_20\"\n",
            "_________________________________________________________________\n",
            "Layer (type)                 Output Shape              Param #   \n",
            "=================================================================\n",
            "lstm_20 (LSTM)               (None, 50)                10400     \n",
            "_________________________________________________________________\n",
            "dense_51 (Dense)             (None, 50)                2550      \n",
            "_________________________________________________________________\n",
            "dense_52 (Dense)             (None, 1)                 51        \n",
            "=================================================================\n",
            "Total params: 13,001\n",
            "Trainable params: 13,001\n",
            "Non-trainable params: 0\n",
            "_________________________________________________________________\n",
            "None\n",
            "140 140\n",
            "Done Training The Data\n",
            "Predicted Crime Count 21130.307 Real Crime Count 20375\n",
            "Predicted Crime Count 20509.482 Real Crime Count 18590\n",
            "Predicted Crime Count 18951.652 Real Crime Count 21878\n",
            "Predicted Crime Count 21807.33 Real Crime Count 20962\n",
            "Predicted Crime Count 21082.47 Real Crime Count 23332\n",
            "Predicted Crime Count 23573.367 Real Crime Count 23791\n",
            "Predicted Crime Count 23810.018 Real Crime Count 24646\n",
            "Predicted Crime Count 24585.166 Real Crime Count 24619\n",
            "Predicted Crime Count 24568.057 Real Crime Count 23235\n",
            "Predicted Crime Count 23378.807 Real Crime Count 23314\n",
            "Predicted Crime Count 23340.201 Real Crime Count 21140\n",
            "Predicted Crime Count 21323.172 Real Crime Count 19580\n",
            "Done Predicting The Data\n",
            " RMSE: 1554.604 \t R2 score: 0.339\n"
          ],
          "name": "stdout"
        }
      ]
    },
    {
      "cell_type": "code",
      "metadata": {
        "id": "X0YFOCsEivIf"
      },
      "source": [
        "model.save('RNN_Univariant_Monthly.h5')"
      ],
      "execution_count": null,
      "outputs": []
    },
    {
      "cell_type": "code",
      "metadata": {
        "colab": {
          "base_uri": "https://localhost:8080/"
        },
        "id": "Qoq6lxX2lszr",
        "outputId": "72b265c7-9e79-4342-8029-16a899129be5"
      },
      "source": [
        "y_test_date = pd.to_datetime(y_test)\n",
        "y_test_date = y_test_date.dt.year"
      ],
      "execution_count": null,
      "outputs": [
        {
          "output_type": "execute_result",
          "data": {
            "text/plain": [
              "DatetimeIndex(['1970-01-01 00:00:00.000020375',\n",
              "               '1970-01-01 00:00:00.000018590',\n",
              "               '1970-01-01 00:00:00.000021878',\n",
              "               '1970-01-01 00:00:00.000020962',\n",
              "               '1970-01-01 00:00:00.000023332',\n",
              "               '1970-01-01 00:00:00.000023791',\n",
              "               '1970-01-01 00:00:00.000024646',\n",
              "               '1970-01-01 00:00:00.000024619',\n",
              "               '1970-01-01 00:00:00.000023235',\n",
              "               '1970-01-01 00:00:00.000023314',\n",
              "               '1970-01-01 00:00:00.000021140',\n",
              "               '1970-01-01 00:00:00.000019580'],\n",
              "              dtype='datetime64[ns]', freq=None)"
            ]
          },
          "metadata": {
            "tags": []
          },
          "execution_count": 37
        }
      ]
    },
    {
      "cell_type": "code",
      "metadata": {
        "colab": {
          "base_uri": "https://localhost:8080/",
          "height": 567
        },
        "id": "JKdrCPHbKd0C",
        "outputId": "e48dc2f2-2190-4d48-eb9c-5e2df99b2104"
      },
      "source": [
        "plt.figure(figsize=(20, 9))\n",
        "plt.title('Predicted Crime Count Per Month For Year 2016 Using Prior Data')\n",
        "plt.plot(y_test_date, y_test, color = 'blue')\n",
        "plt.plot(y_test_date, predictions, color= 'red')\n",
        "plt.ylabel('Crime Count')\n",
        "plt.xlabel('Month Wise Days')\n",
        "plt.show()"
      ],
      "execution_count": null,
      "outputs": [
        {
          "output_type": "display_data",
          "data": {
            "image/png": "[encoded data removed]",
            "text/plain": [
              "<Figure size 1440x648 with 1 Axes>"
            ]
          },
          "metadata": {
            "tags": []
          }
        }
      ]
    },
    {
      "cell_type": "code",
      "metadata": {
        "id": "8tlFFrAPVjmT"
      },
      "source": [
        "def mean_absolute_percentage_error(Y_actual,Y_Predicted):\n",
        "    mape = np.mean(np.abs((Y_actual - Y_Predicted)/Y_actual))*100\n",
        "    return mape"
      ],
      "execution_count": null,
      "outputs": []
    },
    {
      "cell_type": "code",
      "metadata": {
        "colab": {
          "base_uri": "https://localhost:8080/",
          "height": 548
        },
        "id": "-NoVIeQrQeZL",
        "outputId": "f7d196ce-ebae-449c-c77b-624728739dd4"
      },
      "source": [
        "summarize(rmse_scores, r2_scores)"
      ],
      "execution_count": null,
      "outputs": [
        {
          "output_type": "stream",
          "text": [
            "RMSE: 1600.921 (+/- 0.000)\n",
            "R2: 0.299 (+/- 0.000)\n"
          ],
          "name": "stdout"
        },
        {
          "output_type": "display_data",
          "data": {
            "image/png": "[encoded data removed]",
            "text/plain": [
              "<Figure size 432x288 with 1 Axes>"
            ]
          },
          "metadata": {
            "tags": []
          }
        },
        {
          "output_type": "display_data",
          "data": {
            "image/png": "[encoded data removed]",
            "text/plain": [
              "<Figure size 432x288 with 1 Axes>"
            ]
          },
          "metadata": {
            "tags": []
          }
        }
      ]
    }
  ]
}