{
  "nbformat": 4,
  "nbformat_minor": 0,
  "metadata": {
    "colab": {
      "name": "MultiLayerPerceptron.ipynb",
      "provenance": [],
      "collapsed_sections": []
    },
    "kernelspec": {
      "display_name": "Python 3",
      "name": "python3"
    },
    "language_info": {
      "name": "python"
    }
  },
  "cells": [
    {
      "cell_type": "code",
      "metadata": {
        "id": "HTiYF_1UrE6b"
      },
      "source": [
        "import numpy as np\n",
        "import matplotlib.pyplot as plt\n",
        "import pandas as pd\n",
        "import math\n",
        "from keras.models import Sequential\n",
        "from keras.layers import Dense\n",
        "from keras.layers import LSTM\n",
        "from sklearn.preprocessing import MinMaxScaler\n",
        "from sklearn.metrics import mean_squared_error, accuracy_score, r2_score as get_r2_score, mean_absolute_error"
      ],
      "execution_count": 1,
      "outputs": []
    },
    {
      "cell_type": "code",
      "metadata": {
        "colab": {
          "base_uri": "https://localhost:8080/"
        },
        "id": "DtcVXXeXrLsJ",
        "outputId": "1bd1dd74-bd2a-4125-cbc5-4bfba3375334"
      },
      "source": [
        "from google.colab import drive\n",
        "drive.mount('/content/drive')\n",
        "!pip install -U -q PyDrive\n",
        "from pydrive.auth import GoogleAuth\n",
        "from pydrive.drive import GoogleDrive\n",
        "from google.colab import auth\n",
        "from oauth2client.client import GoogleCredentials\n",
        "auth.authenticate_user()\n",
        "gauth = GoogleAuth()\n",
        "gauth.credentials = GoogleCredentials.get_application_default()\n",
        "drive = GoogleDrive(gauth)"
      ],
      "execution_count": 2,
      "outputs": [
        {
          "output_type": "stream",
          "text": [
            "Mounted at /content/drive\n"
          ],
          "name": "stdout"
        }
      ]
    },
    {
      "cell_type": "code",
      "metadata": {
        "id": "J-evXym7rc1B"
      },
      "source": [
        "downloaded = drive.CreateFile({'id':'15X31Q-RYIUfEKXkTeszOOfkICqQf8Zj4'}) \n",
        "downloaded.GetContentFile('ChicagoCrimeCountMonthly.csv')  \n",
        "data = pd.read_csv('ChicagoCrimeCountMonthly.csv', error_bad_lines=False)\n",
        "data['Date'] = pd.to_datetime(data['Date'], errors='coerce')\n",
        "data[\"Date\"] = data[\"Date\"].dt.strftime(\"%m/%d/%Y\")\n",
        "data.columns = ['Date', 'Crime Count']"
      ],
      "execution_count": 3,
      "outputs": []
    },
    {
      "cell_type": "code",
      "metadata": {
        "colab": {
          "base_uri": "https://localhost:8080/",
          "height": 419
        },
        "id": "E3G3IMH0fUrY",
        "outputId": "c6198944-7d9e-40d7-da10-52cda473ab53"
      },
      "source": [
        "data"
      ],
      "execution_count": 4,
      "outputs": [
        {
          "output_type": "execute_result",
          "data": {
            "text/html": [
              "<div>\n",
              "<style scoped>\n",
              "    .dataframe tbody tr th:only-of-type {\n",
              "        vertical-align: middle;\n",
              "    }\n",
              "\n",
              "    .dataframe tbody tr th {\n",
              "        vertical-align: top;\n",
              "    }\n",
              "\n",
              "    .dataframe thead th {\n",
              "        text-align: right;\n",
              "    }\n",
              "</style>\n",
              "<table border=\"1\" class=\"dataframe\">\n",
              "  <thead>\n",
              "    <tr style=\"text-align: right;\">\n",
              "      <th></th>\n",
              "      <th>Date</th>\n",
              "      <th>Crime Count</th>\n",
              "    </tr>\n",
              "  </thead>\n",
              "  <tbody>\n",
              "    <tr>\n",
              "      <th>0</th>\n",
              "      <td>01/31/2001</td>\n",
              "      <td>74995</td>\n",
              "    </tr>\n",
              "    <tr>\n",
              "      <th>1</th>\n",
              "      <td>02/28/2001</td>\n",
              "      <td>66288</td>\n",
              "    </tr>\n",
              "    <tr>\n",
              "      <th>2</th>\n",
              "      <td>03/31/2001</td>\n",
              "      <td>53122</td>\n",
              "    </tr>\n",
              "    <tr>\n",
              "      <th>3</th>\n",
              "      <td>04/30/2001</td>\n",
              "      <td>40166</td>\n",
              "    </tr>\n",
              "    <tr>\n",
              "      <th>4</th>\n",
              "      <td>05/31/2001</td>\n",
              "      <td>41876</td>\n",
              "    </tr>\n",
              "    <tr>\n",
              "      <th>...</th>\n",
              "      <td>...</td>\n",
              "      <td>...</td>\n",
              "    </tr>\n",
              "    <tr>\n",
              "      <th>188</th>\n",
              "      <td>09/30/2016</td>\n",
              "      <td>23235</td>\n",
              "    </tr>\n",
              "    <tr>\n",
              "      <th>189</th>\n",
              "      <td>10/31/2016</td>\n",
              "      <td>23314</td>\n",
              "    </tr>\n",
              "    <tr>\n",
              "      <th>190</th>\n",
              "      <td>11/30/2016</td>\n",
              "      <td>21140</td>\n",
              "    </tr>\n",
              "    <tr>\n",
              "      <th>191</th>\n",
              "      <td>12/31/2016</td>\n",
              "      <td>19580</td>\n",
              "    </tr>\n",
              "    <tr>\n",
              "      <th>192</th>\n",
              "      <td>01/31/2017</td>\n",
              "      <td>11357</td>\n",
              "    </tr>\n",
              "  </tbody>\n",
              "</table>\n",
              "<p>193 rows × 2 columns</p>\n",
              "</div>"
            ],
            "text/plain": [
              "           Date  Crime Count\n",
              "0    01/31/2001        74995\n",
              "1    02/28/2001        66288\n",
              "2    03/31/2001        53122\n",
              "3    04/30/2001        40166\n",
              "4    05/31/2001        41876\n",
              "..          ...          ...\n",
              "188  09/30/2016        23235\n",
              "189  10/31/2016        23314\n",
              "190  11/30/2016        21140\n",
              "191  12/31/2016        19580\n",
              "192  01/31/2017        11357\n",
              "\n",
              "[193 rows x 2 columns]"
            ]
          },
          "metadata": {
            "tags": []
          },
          "execution_count": 4
        }
      ]
    },
    {
      "cell_type": "code",
      "metadata": {
        "colab": {
          "base_uri": "https://localhost:8080/"
        },
        "id": "-KPEix7R3FYQ",
        "outputId": "c8554b65-2105-4e99-de1a-14430f49e0f0"
      },
      "source": [
        "crime_counts = np.asarray(data['Crime Count'].values)\n",
        "print(len(crime_counts))\n",
        "dates = np.asarray(data['Date'].values)\n",
        "print(len(dates))"
      ],
      "execution_count": 5,
      "outputs": [
        {
          "output_type": "stream",
          "text": [
            "193\n",
            "193\n"
          ],
          "name": "stdout"
        }
      ]
    },
    {
      "cell_type": "code",
      "metadata": {
        "id": "e-k5WMITjFP0"
      },
      "source": [
        "def measure_error(actual, predicted):\n",
        "  rmse = np.sqrt(mean_squared_error(actual, predicted))\n",
        "  r2 = get_r2_score(actual, predicted)\n",
        "  return rmse, r2 "
      ],
      "execution_count": 6,
      "outputs": []
    },
    {
      "cell_type": "code",
      "metadata": {
        "id": "WvVF__jA0TJo"
      },
      "source": [
        "def fit_model(X, y, n_steps):\n",
        "  # # define model\n",
        "  # model = Sequential()\n",
        "  # model.add(LSTM(50, activation='relu', input_shape=(n_steps, n_features)))\n",
        "  # model.add(Dense(50, activation='relu'))\n",
        "  # model.add(Dense(50, activation='relu'))\n",
        "  # model.add(Dense(1))\n",
        "  # model.compile(optimizer='adam', loss='mse')\n",
        "  # # fit model\n",
        "  # print(model.summary())\n",
        "  # print(len(X), len(y))\n",
        "  \n",
        "  # model.fit(X, y, epochs=1000, verbose=0)\n",
        "\n",
        "  model = Sequential()\n",
        "  model.add(Dense(100, activation='relu', input_dim=n_steps))\n",
        "  model.add(Dense(1))\n",
        "  model.compile(optimizer='adam', loss='mse')\n",
        "# fit model\n",
        "  model.fit(X, y, epochs=2000, verbose=0)\n",
        "\n",
        "  print(model.summary())\n",
        "  print(len(X), len(y))\n",
        "\n",
        "  model.fit(X, y, epochs=1000, verbose=0)\n",
        "\n",
        "  return model"
      ],
      "execution_count": 7,
      "outputs": []
    },
    {
      "cell_type": "code",
      "metadata": {
        "id": "k7AhcjRJ09cw"
      },
      "source": [
        "def split_sequence(crime_counts, dates, n_steps):\n",
        "  X, y, X_dates, y_date = list(), list(), list(), list()\n",
        "  for i in range(len(crime_counts)):\n",
        "    end_ix = i + n_steps\n",
        "    if end_ix > len(crime_counts)-1:\n",
        "      break\n",
        "    seq_x, seq_y = crime_counts[i : end_ix], crime_counts[end_ix]\n",
        "    seq_x_dates, seq_y_date = dates[i : end_ix], dates[end_ix]\n",
        "    X.append(seq_x)\n",
        "    y.append(seq_y)\n",
        "    X_dates.append(seq_x_dates)\n",
        "    y_date.append(seq_y_date)\n",
        "  return np.array(X), np.array(y), np.array(X_dates), np.array(y_date)"
      ],
      "execution_count": 8,
      "outputs": []
    },
    {
      "cell_type": "code",
      "metadata": {
        "id": "UaZSoVKw1MzL"
      },
      "source": [
        "def split_train_test_data(X, y, train_size, test_size):\n",
        "  return X[0: train_size], X[train_size: train_size + test_size], y[0: train_size], y[train_size: train_size + test_size] "
      ],
      "execution_count": 9,
      "outputs": []
    },
    {
      "cell_type": "code",
      "metadata": {
        "id": "4Iboz-1PjRwy"
      },
      "source": [
        "def evaluation_on__rolling_forecasting(crime_counts, dates, train_size, test_size):\n",
        "  \n",
        "  # defines how many time we want to insert into model to predict next timing\n",
        "  n_steps = 40\n",
        "  # split into samples\n",
        "  X, y, X_dates, y_date = split_sequence(crime_counts, dates, n_steps)\n",
        "  record_size = len(X)\n",
        "\n",
        "  # reshape from [samples, timesteps] into [samples, timesteps, features]\n",
        "\n",
        "  # print(X.shape[0], X.shape[1])\n",
        "  X = X.reshape((X.shape[0], X.shape[1]))\n",
        "  X_dates = X_dates.reshape((X_dates.shape[0], X_dates.shape[1]))\n",
        "  rmse_scores = []\n",
        "  r2_scores = []\n",
        "  predictions = []\n",
        "  y_test = []\n",
        "  y_test_date = []\n",
        "  model = None\n",
        "  print(\"train_size\", train_size, \"test_size\", test_size, \"record_size\", record_size)\n",
        "  for i in range(train_size, record_size - test_size):\n",
        "    y_test = []\n",
        "    y_test_date = []\n",
        "    X_train, X_test, y_train, y_test= split_train_test_data(X , y, i, test_size)\n",
        "    X_train_dates, X_test_dates, y_train_date, y_test_date = split_train_test_data(X_dates , y_date, i, test_size)\n",
        "\n",
        "    model = fit_model(X_train, y_train, n_steps)\n",
        "    print(\"Done Training The Data\")\n",
        "\n",
        "    predictions = []\n",
        "    for i in range(0, len(X_test)):\n",
        "      x_input = np.array(X_test[i])\n",
        "      x_input = x_input.reshape((1, n_steps))\n",
        "      yhat = model.predict(x_input, verbose=0)\n",
        "      # print('Date', y_test_date[i])\n",
        "      # print(\"Time Series Values\", X_test[i])\n",
        "      print(\"Predicted Crime Count\", yhat[0][0], \"Real Crime Count\", y_test[i])\n",
        "      predictions.append(yhat[0][0])\n",
        "    print(\"Done Predicting The Data\")\n",
        "    rmse, r2 = measure_error(y_test, predictions)\n",
        "    print(' RMSE: %.3f \\t R2 score: %.3f' % (rmse, r2))\n",
        "    rmse_scores.append(rmse)\n",
        "    r2_scores.append(r2)\n",
        "  return rmse_scores, r2_scores, model, predictions, y_test, y_test_date"
      ],
      "execution_count": 22,
      "outputs": []
    },
    {
      "cell_type": "code",
      "metadata": {
        "id": "6b1ca-M1QgFP"
      },
      "source": [
        "def summarize(rmse_scores, r2_scores):\n",
        "    rmse_scores = [i for i in rmse_scores]\n",
        "    r2_scores = [i for i in r2_scores]\n",
        "    rmse_mean, rmse_std = np.mean(rmse_scores), np.std(rmse_scores)\n",
        "    r2_mean, r2_std = np.mean(r2_scores), np.std(r2_scores)\n",
        "    print('RMSE: %.3f (+/- %.3f)' % (rmse_mean, rmse_std))\n",
        "    print('R2: %.3f (+/- %.3f)' % (r2_mean, r2_std))\n",
        "    plt.boxplot(rmse_scores)\n",
        "    plt.show()\n",
        "    plt.boxplot(r2_scores)\n",
        "    plt.show()"
      ],
      "execution_count": 30,
      "outputs": []
    },
    {
      "cell_type": "code",
      "metadata": {
        "colab": {
          "base_uri": "https://localhost:8080/"
        },
        "id": "mxDFfMWUjWOq",
        "outputId": "20c31a6f-40ce-4abb-e8ec-1642d457676a"
      },
      "source": [
        "train_size=130\n",
        "test_size = 12\n",
        "rmse_scores, r2_scores, model, predictions, y_test, y_test_date = evaluation_on__rolling_forecasting(crime_counts, dates, train_size, test_size)"
      ],
      "execution_count": 24,
      "outputs": [
        {
          "output_type": "stream",
          "text": [
            "train_size 130 test_size 12 record_size 153\n",
            "Model: \"sequential_10\"\n",
            "_________________________________________________________________\n",
            "Layer (type)                 Output Shape              Param #   \n",
            "=================================================================\n",
            "dense_20 (Dense)             (None, 100)               4100      \n",
            "_________________________________________________________________\n",
            "dense_21 (Dense)             (None, 1)                 101       \n",
            "=================================================================\n",
            "Total params: 4,201\n",
            "Trainable params: 4,201\n",
            "Non-trainable params: 0\n",
            "_________________________________________________________________\n",
            "None\n",
            "130 130\n",
            "Done Training The Data\n",
            "Predicted Crime Count 19763.188 Real Crime Count 21560\n",
            "Predicted Crime Count 21993.453 Real Crime Count 21610\n",
            "Predicted Crime Count 22981.979 Real Crime Count 23570\n",
            "Predicted Crime Count 24580.084 Real Crime Count 23059\n",
            "Predicted Crime Count 24506.217 Real Crime Count 24101\n",
            "Predicted Crime Count 23981.963 Real Crime Count 24685\n",
            "Predicted Crime Count 23089.5 Real Crime Count 22996\n",
            "Predicted Crime Count 23157.691 Real Crime Count 22979\n",
            "Predicted Crime Count 21121.5 Real Crime Count 20486\n",
            "Predicted Crime Count 19167.584 Real Crime Count 21006\n",
            "Predicted Crime Count 20768.467 Real Crime Count 20375\n",
            "Predicted Crime Count 19455.158 Real Crime Count 18590\n",
            "Done Predicting The Data\n",
            " RMSE: 975.582 \t R2 score: 0.673\n",
            "Model: \"sequential_11\"\n",
            "_________________________________________________________________\n",
            "Layer (type)                 Output Shape              Param #   \n",
            "=================================================================\n",
            "dense_22 (Dense)             (None, 100)               4100      \n",
            "_________________________________________________________________\n",
            "dense_23 (Dense)             (None, 1)                 101       \n",
            "=================================================================\n",
            "Total params: 4,201\n",
            "Trainable params: 4,201\n",
            "Non-trainable params: 0\n",
            "_________________________________________________________________\n",
            "None\n",
            "131 131\n",
            "Done Training The Data\n",
            "Predicted Crime Count 21868.818 Real Crime Count 21610\n",
            "Predicted Crime Count 21680.287 Real Crime Count 23570\n",
            "Predicted Crime Count 24221.492 Real Crime Count 23059\n",
            "Predicted Crime Count 24184.893 Real Crime Count 24101\n",
            "Predicted Crime Count 22689.268 Real Crime Count 24685\n",
            "Predicted Crime Count 21110.418 Real Crime Count 22996\n",
            "Predicted Crime Count 20902.238 Real Crime Count 22979\n",
            "Predicted Crime Count 19479.715 Real Crime Count 20486\n",
            "Predicted Crime Count 19150.898 Real Crime Count 21006\n",
            "Predicted Crime Count 20556.447 Real Crime Count 20375\n",
            "Predicted Crime Count 20206.72 Real Crime Count 18590\n",
            "Predicted Crime Count 22648.936 Real Crime Count 21878\n",
            "Done Predicting The Data\n",
            " RMSE: 1430.116 \t R2 score: 0.293\n",
            "Model: \"sequential_12\"\n",
            "_________________________________________________________________\n",
            "Layer (type)                 Output Shape              Param #   \n",
            "=================================================================\n",
            "dense_24 (Dense)             (None, 100)               4100      \n",
            "_________________________________________________________________\n",
            "dense_25 (Dense)             (None, 1)                 101       \n",
            "=================================================================\n",
            "Total params: 4,201\n",
            "Trainable params: 4,201\n",
            "Non-trainable params: 0\n",
            "_________________________________________________________________\n",
            "None\n",
            "132 132\n",
            "Done Training The Data\n",
            "Predicted Crime Count 22568.32 Real Crime Count 23570\n",
            "Predicted Crime Count 24331.467 Real Crime Count 23059\n",
            "Predicted Crime Count 23265.602 Real Crime Count 24101\n",
            "Predicted Crime Count 23961.057 Real Crime Count 24685\n",
            "Predicted Crime Count 22044.531 Real Crime Count 22996\n",
            "Predicted Crime Count 22039.445 Real Crime Count 22979\n",
            "Predicted Crime Count 21056.365 Real Crime Count 20486\n",
            "Predicted Crime Count 18803.48 Real Crime Count 21006\n",
            "Predicted Crime Count 23107.74 Real Crime Count 20375\n",
            "Predicted Crime Count 19658.197 Real Crime Count 18590\n",
            "Predicted Crime Count 23132.846 Real Crime Count 21878\n",
            "Predicted Crime Count 22946.973 Real Crime Count 20962\n",
            "Done Predicting The Data\n",
            " RMSE: 1441.430 \t R2 score: 0.303\n",
            "Model: \"sequential_13\"\n",
            "_________________________________________________________________\n",
            "Layer (type)                 Output Shape              Param #   \n",
            "=================================================================\n",
            "dense_26 (Dense)             (None, 100)               4100      \n",
            "_________________________________________________________________\n",
            "dense_27 (Dense)             (None, 1)                 101       \n",
            "=================================================================\n",
            "Total params: 4,201\n",
            "Trainable params: 4,201\n",
            "Non-trainable params: 0\n",
            "_________________________________________________________________\n",
            "None\n",
            "133 133\n",
            "Done Training The Data\n",
            "Predicted Crime Count 23695.072 Real Crime Count 23059\n",
            "Predicted Crime Count 25387.684 Real Crime Count 24101\n",
            "Predicted Crime Count 24388.322 Real Crime Count 24685\n",
            "Predicted Crime Count 22285.559 Real Crime Count 22996\n",
            "Predicted Crime Count 23033.455 Real Crime Count 22979\n",
            "Predicted Crime Count 22009.887 Real Crime Count 20486\n",
            "Predicted Crime Count 19671.38 Real Crime Count 21006\n",
            "Predicted Crime Count 21291.098 Real Crime Count 20375\n",
            "Predicted Crime Count 18094.46 Real Crime Count 18590\n",
            "Predicted Crime Count 21253.324 Real Crime Count 21878\n",
            "Predicted Crime Count 22428.922 Real Crime Count 20962\n",
            "Predicted Crime Count 24656.441 Real Crime Count 23332\n",
            "Done Predicting The Data\n",
            " RMSE: 1005.829 \t R2 score: 0.654\n",
            "Model: \"sequential_14\"\n",
            "_________________________________________________________________\n",
            "Layer (type)                 Output Shape              Param #   \n",
            "=================================================================\n",
            "dense_28 (Dense)             (None, 100)               4100      \n",
            "_________________________________________________________________\n",
            "dense_29 (Dense)             (None, 1)                 101       \n",
            "=================================================================\n",
            "Total params: 4,201\n",
            "Trainable params: 4,201\n",
            "Non-trainable params: 0\n",
            "_________________________________________________________________\n",
            "None\n",
            "134 134\n",
            "Done Training The Data\n",
            "Predicted Crime Count 24879.674 Real Crime Count 24101\n",
            "Predicted Crime Count 23912.736 Real Crime Count 24685\n",
            "Predicted Crime Count 23317.125 Real Crime Count 22996\n",
            "Predicted Crime Count 22735.988 Real Crime Count 22979\n",
            "Predicted Crime Count 20845.12 Real Crime Count 20486\n",
            "Predicted Crime Count 19735.146 Real Crime Count 21006\n",
            "Predicted Crime Count 20793.58 Real Crime Count 20375\n",
            "Predicted Crime Count 19957.57 Real Crime Count 18590\n",
            "Predicted Crime Count 23568.877 Real Crime Count 21878\n",
            "Predicted Crime Count 22863.852 Real Crime Count 20962\n",
            "Predicted Crime Count 23277.885 Real Crime Count 23332\n",
            "Predicted Crime Count 23820.895 Real Crime Count 23791\n",
            "Done Predicting The Data\n",
            " RMSE: 984.645 \t R2 score: 0.686\n",
            "Model: \"sequential_15\"\n",
            "_________________________________________________________________\n",
            "Layer (type)                 Output Shape              Param #   \n",
            "=================================================================\n",
            "dense_30 (Dense)             (None, 100)               4100      \n",
            "_________________________________________________________________\n",
            "dense_31 (Dense)             (None, 1)                 101       \n",
            "=================================================================\n",
            "Total params: 4,201\n",
            "Trainable params: 4,201\n",
            "Non-trainable params: 0\n",
            "_________________________________________________________________\n",
            "None\n",
            "135 135\n",
            "Done Training The Data\n",
            "Predicted Crime Count 24132.492 Real Crime Count 24685\n",
            "Predicted Crime Count 22859.205 Real Crime Count 22996\n",
            "Predicted Crime Count 22316.822 Real Crime Count 22979\n",
            "Predicted Crime Count 20307.49 Real Crime Count 20486\n",
            "Predicted Crime Count 19445.48 Real Crime Count 21006\n",
            "Predicted Crime Count 20377.865 Real Crime Count 20375\n",
            "Predicted Crime Count 19845.99 Real Crime Count 18590\n",
            "Predicted Crime Count 23694.207 Real Crime Count 21878\n",
            "Predicted Crime Count 22896.336 Real Crime Count 20962\n",
            "Predicted Crime Count 23939.52 Real Crime Count 23332\n",
            "Predicted Crime Count 24190.355 Real Crime Count 23791\n",
            "Predicted Crime Count 24318.312 Real Crime Count 24646\n",
            "Done Predicting The Data\n",
            " RMSE: 1019.938 \t R2 score: 0.684\n",
            "Model: \"sequential_16\"\n",
            "_________________________________________________________________\n",
            "Layer (type)                 Output Shape              Param #   \n",
            "=================================================================\n",
            "dense_32 (Dense)             (None, 100)               4100      \n",
            "_________________________________________________________________\n",
            "dense_33 (Dense)             (None, 1)                 101       \n",
            "=================================================================\n",
            "Total params: 4,201\n",
            "Trainable params: 4,201\n",
            "Non-trainable params: 0\n",
            "_________________________________________________________________\n",
            "None\n",
            "136 136\n",
            "Done Training The Data\n",
            "Predicted Crime Count 23189.713 Real Crime Count 22996\n",
            "Predicted Crime Count 24188.639 Real Crime Count 22979\n",
            "Predicted Crime Count 22000.795 Real Crime Count 20486\n",
            "Predicted Crime Count 20247.523 Real Crime Count 21006\n",
            "Predicted Crime Count 20871.734 Real Crime Count 20375\n",
            "Predicted Crime Count 19154.975 Real Crime Count 18590\n",
            "Predicted Crime Count 21589.383 Real Crime Count 21878\n",
            "Predicted Crime Count 21927.69 Real Crime Count 20962\n",
            "Predicted Crime Count 22805.37 Real Crime Count 23332\n",
            "Predicted Crime Count 22910.426 Real Crime Count 23791\n",
            "Predicted Crime Count 23903.78 Real Crime Count 24646\n",
            "Predicted Crime Count 25320.178 Real Crime Count 24619\n",
            "Done Predicting The Data\n",
            " RMSE: 818.929 \t R2 score: 0.795\n",
            "Model: \"sequential_17\"\n",
            "_________________________________________________________________\n",
            "Layer (type)                 Output Shape              Param #   \n",
            "=================================================================\n",
            "dense_34 (Dense)             (None, 100)               4100      \n",
            "_________________________________________________________________\n",
            "dense_35 (Dense)             (None, 1)                 101       \n",
            "=================================================================\n",
            "Total params: 4,201\n",
            "Trainable params: 4,201\n",
            "Non-trainable params: 0\n",
            "_________________________________________________________________\n",
            "None\n",
            "137 137\n",
            "Done Training The Data\n",
            "Predicted Crime Count 22386.121 Real Crime Count 22979\n",
            "Predicted Crime Count 20578.668 Real Crime Count 20486\n",
            "Predicted Crime Count 18750.117 Real Crime Count 21006\n",
            "Predicted Crime Count 19525.273 Real Crime Count 20375\n",
            "Predicted Crime Count 18287.068 Real Crime Count 18590\n",
            "Predicted Crime Count 20893.936 Real Crime Count 21878\n",
            "Predicted Crime Count 20366.424 Real Crime Count 20962\n",
            "Predicted Crime Count 22772.453 Real Crime Count 23332\n",
            "Predicted Crime Count 23581.473 Real Crime Count 23791\n",
            "Predicted Crime Count 22648.877 Real Crime Count 24646\n",
            "Predicted Crime Count 23764.855 Real Crime Count 24619\n",
            "Predicted Crime Count 22525.469 Real Crime Count 23235\n",
            "Done Predicting The Data\n",
            " RMSE: 1047.397 \t R2 score: 0.668\n",
            "Model: \"sequential_18\"\n",
            "_________________________________________________________________\n",
            "Layer (type)                 Output Shape              Param #   \n",
            "=================================================================\n",
            "dense_36 (Dense)             (None, 100)               4100      \n",
            "_________________________________________________________________\n",
            "dense_37 (Dense)             (None, 1)                 101       \n",
            "=================================================================\n",
            "Total params: 4,201\n",
            "Trainable params: 4,201\n",
            "Non-trainable params: 0\n",
            "_________________________________________________________________\n",
            "None\n",
            "138 138\n",
            "Done Training The Data\n",
            "Predicted Crime Count 20609.592 Real Crime Count 20486\n",
            "Predicted Crime Count 20076.365 Real Crime Count 21006\n",
            "Predicted Crime Count 21091.73 Real Crime Count 20375\n",
            "Predicted Crime Count 19793.44 Real Crime Count 18590\n",
            "Predicted Crime Count 23069.797 Real Crime Count 21878\n",
            "Predicted Crime Count 22750.697 Real Crime Count 20962\n",
            "Predicted Crime Count 24150.06 Real Crime Count 23332\n",
            "Predicted Crime Count 24508.83 Real Crime Count 23791\n",
            "Predicted Crime Count 24965.271 Real Crime Count 24646\n",
            "Predicted Crime Count 26089.906 Real Crime Count 24619\n",
            "Predicted Crime Count 24042.031 Real Crime Count 23235\n",
            "Predicted Crime Count 24373.422 Real Crime Count 23314\n",
            "Done Predicting The Data\n",
            " RMSE: 1028.144 \t R2 score: 0.685\n",
            "Model: \"sequential_19\"\n",
            "_________________________________________________________________\n",
            "Layer (type)                 Output Shape              Param #   \n",
            "=================================================================\n",
            "dense_38 (Dense)             (None, 100)               4100      \n",
            "_________________________________________________________________\n",
            "dense_39 (Dense)             (None, 1)                 101       \n",
            "=================================================================\n",
            "Total params: 4,201\n",
            "Trainable params: 4,201\n",
            "Non-trainable params: 0\n",
            "_________________________________________________________________\n",
            "None\n",
            "139 139\n",
            "Done Training The Data\n",
            "Predicted Crime Count 19866.605 Real Crime Count 21006\n",
            "Predicted Crime Count 20567.365 Real Crime Count 20375\n",
            "Predicted Crime Count 18983.28 Real Crime Count 18590\n",
            "Predicted Crime Count 23176.049 Real Crime Count 21878\n",
            "Predicted Crime Count 22375.895 Real Crime Count 20962\n",
            "Predicted Crime Count 22795.303 Real Crime Count 23332\n",
            "Predicted Crime Count 23707.957 Real Crime Count 23791\n",
            "Predicted Crime Count 25042.908 Real Crime Count 24646\n",
            "Predicted Crime Count 25013.998 Real Crime Count 24619\n",
            "Predicted Crime Count 24060.406 Real Crime Count 23235\n",
            "Predicted Crime Count 22744.428 Real Crime Count 23314\n",
            "Predicted Crime Count 20385.855 Real Crime Count 21140\n",
            "Done Predicting The Data\n",
            " RMSE: 782.989 \t R2 score: 0.809\n",
            "Model: \"sequential_20\"\n",
            "_________________________________________________________________\n",
            "Layer (type)                 Output Shape              Param #   \n",
            "=================================================================\n",
            "dense_40 (Dense)             (None, 100)               4100      \n",
            "_________________________________________________________________\n",
            "dense_41 (Dense)             (None, 1)                 101       \n",
            "=================================================================\n",
            "Total params: 4,201\n",
            "Trainable params: 4,201\n",
            "Non-trainable params: 0\n",
            "_________________________________________________________________\n",
            "None\n",
            "140 140\n",
            "Done Training The Data\n",
            "Predicted Crime Count 21031.676 Real Crime Count 20375\n",
            "Predicted Crime Count 20380.957 Real Crime Count 18590\n",
            "Predicted Crime Count 22839.154 Real Crime Count 21878\n",
            "Predicted Crime Count 23305.785 Real Crime Count 20962\n",
            "Predicted Crime Count 23746.557 Real Crime Count 23332\n",
            "Predicted Crime Count 24462.398 Real Crime Count 23791\n",
            "Predicted Crime Count 24013.486 Real Crime Count 24646\n",
            "Predicted Crime Count 25504.264 Real Crime Count 24619\n",
            "Predicted Crime Count 24148.496 Real Crime Count 23235\n",
            "Predicted Crime Count 23491.893 Real Crime Count 23314\n",
            "Predicted Crime Count 20922.066 Real Crime Count 21140\n",
            "Predicted Crime Count 21501.793 Real Crime Count 19580\n",
            "Done Predicting The Data\n",
            " RMSE: 1171.509 \t R2 score: 0.625\n"
          ],
          "name": "stdout"
        }
      ]
    },
    {
      "cell_type": "code",
      "metadata": {
        "id": "X0YFOCsEivIf"
      },
      "source": [
        "model.save('MLP_Univariate_Monthly.h5')"
      ],
      "execution_count": 25,
      "outputs": []
    },
    {
      "cell_type": "code",
      "metadata": {
        "colab": {
          "base_uri": "https://localhost:8080/",
          "height": 567
        },
        "id": "JKdrCPHbKd0C",
        "outputId": "7cdd0ab7-d0a2-48bd-8da7-31e03b2160eb"
      },
      "source": [
        "plt.figure(figsize=(20, 9))\n",
        "plt.title('Predicted Crime Count Per Month For Year 2016 Using Prior Data')\n",
        "plt.plot(y_test_date, y_test, color = 'blue')\n",
        "plt.plot(y_test_date, predictions, color= 'red')\n",
        "plt.ylabel('Crime Count')\n",
        "plt.xlabel('Month Wise Days')\n",
        "plt.show()"
      ],
      "execution_count": 26,
      "outputs": [
        {
          "output_type": "display_data",
          "data": {
            "image/png": "[encoded data removed]",
            "text/plain": [
              "<Figure size 1440x648 with 1 Axes>"
            ]
          },
          "metadata": {
            "tags": [],
            "needs_background": "light"
          }
        }
      ]
    },
    {
      "cell_type": "code",
      "metadata": {
        "id": "8tlFFrAPVjmT"
      },
      "source": [
        "def mean_absolute_percentage_error(Y_actual,Y_Predicted):\n",
        "    mape = np.mean(np.abs((Y_actual - Y_Predicted)/Y_actual))*100\n",
        "    return mape"
      ],
      "execution_count": 27,
      "outputs": []
    },
    {
      "cell_type": "code",
      "metadata": {
        "id": "-NoVIeQrQeZL",
        "colab": {
          "base_uri": "https://localhost:8080/",
          "height": 547
        },
        "outputId": "1c7f2b70-42f7-4e1f-8c7a-66f2781d35dc"
      },
      "source": [
        "summarize(rmse_scores, r2_scores)"
      ],
      "execution_count": 31,
      "outputs": [
        {
          "output_type": "stream",
          "text": [
            "RMSE: 1064.228 (+/- 201.828)\n",
            "R2: 0.625 (+/- 0.163)\n"
          ],
          "name": "stdout"
        },
        {
          "output_type": "display_data",
          "data": {
            "image/png": "[encoded data removed]",
            "text/plain": [
              "<Figure size 432x288 with 1 Axes>"
            ]
          },
          "metadata": {
            "tags": [],
            "needs_background": "light"
          }
        },
        {
          "output_type": "display_data",
          "data": {
            "image/png": "[encoded data removed]",
            "text/plain": [
              "<Figure size 432x288 with 1 Axes>"
            ]
          },
          "metadata": {
            "tags": [],
            "needs_background": "light"
          }
        }
      ]
    }
  ]
}