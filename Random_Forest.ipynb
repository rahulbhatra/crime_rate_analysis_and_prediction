{
  "nbformat": 4,
  "nbformat_minor": 0,
  "metadata": {
    "colab": {
      "name": "Random_Forest.ipynb",
      "provenance": [],
      "collapsed_sections": []
    },
    "kernelspec": {
      "name": "python3",
      "display_name": "Python 3"
    },
    "language_info": {
      "name": "python"
    }
  },
  "cells": [
    {
      "cell_type": "code",
      "metadata": {
        "id": "XwJFXC1CZaA6",
        "colab": {
          "base_uri": "https://localhost:8080/"
        },
        "outputId": "b0426a54-ab5e-41bf-9aec-acd33009ea9e"
      },
      "source": [
        "import pickle\n",
        "import pandas as pd\n",
        "import numpy as np\n",
        "from matplotlib import  *\n",
        "from sklearn.model_selection import train_test_split\n",
        "from sklearn.preprocessing import LabelEncoder\n",
        "from sklearn.metrics import *\n",
        "from sklearn.ensemble import RandomForestClassifier,VotingClassifier\n",
        "# from sklearn.neural_network import MLPClassifierr\n",
        "from yellowbrick.classifier import ClassificationReport "
      ],
      "execution_count": 1,
      "outputs": [
        {
          "output_type": "stream",
          "text": [
            "/usr/local/lib/python3.7/dist-packages/sklearn/utils/deprecation.py:144: FutureWarning: The sklearn.metrics.classification module is  deprecated in version 0.22 and will be removed in version 0.24. The corresponding classes / functions should instead be imported from sklearn.metrics. Anything that cannot be imported from sklearn.metrics is now part of the private API.\n",
            "  warnings.warn(message, FutureWarning)\n"
          ],
          "name": "stderr"
        }
      ]
    },
    {
      "cell_type": "code",
      "metadata": {
        "colab": {
          "base_uri": "https://localhost:8080/"
        },
        "id": "TCBPUC3SNYvy",
        "outputId": "19eabfd6-f62f-4895-fd70-aa9ce1bf906f"
      },
      "source": [
        "chicago1 = pd.read_csv(\"/content/drive/MyDrive/Project_ML/Chicago_Crimes_2001_to_2004.csv\", error_bad_lines=False, low_memory=False)\n",
        "chicago2 = pd.read_csv(\"/content/drive/MyDrive/Project_ML/Chicago_Crimes_2005_to_2007.csv\", error_bad_lines=False, low_memory=False)\n",
        "chicago3 = pd.read_csv(\"/content/drive/MyDrive/Project_ML/Chicago_Crimes_2008_to_2011.csv\", error_bad_lines=False, low_memory=False)\n",
        "chicago4 = pd.read_csv(\"/content/drive/MyDrive/Project_ML/Chicago_Crimes_2012_to_2017.csv\", error_bad_lines=False, low_memory=False)\n",
        "chicago = pd.concat([chicago1, chicago2, chicago3, chicago4], ignore_index = False, axis=0)"
      ],
      "execution_count": 2,
      "outputs": [
        {
          "output_type": "stream",
          "text": [
            "b'Skipping line 1513591: expected 23 fields, saw 24\\n'\n",
            "b'Skipping line 533719: expected 23 fields, saw 24\\n'\n",
            "b'Skipping line 1149094: expected 23 fields, saw 41\\n'\n"
          ],
          "name": "stderr"
        }
      ]
    },
    {
      "cell_type": "code",
      "metadata": {
        "id": "59fxiUf2CgBG"
      },
      "source": [
        "chicagodf = chicago.sample(n=1000)"
      ],
      "execution_count": 53,
      "outputs": []
    },
    {
      "cell_type": "code",
      "metadata": {
        "id": "2gFWw3c3LCNB"
      },
      "source": [
        "chicagodf = chicagodf.drop(['Unnamed: 0'], axis=1)\n",
        "chicagodf = chicagodf.drop(['ID'], axis=1)\n",
        "chicagodf = chicagodf.drop(['Case Number'], axis=1) "
      ],
      "execution_count": 54,
      "outputs": []
    },
    {
      "cell_type": "code",
      "metadata": {
        "id": "-kfl1Aq1HyYs",
        "colab": {
          "base_uri": "https://localhost:8080/",
          "height": 400
        },
        "outputId": "f2e772bb-0b40-479c-9cee-91aaff6d80e4"
      },
      "source": [
        "chicagodf['date2'] = pd.to_datetime(chicagodf['Date'])\n",
        "chicagodf['Year'] = chicagodf['date2'].dt.year\n",
        "chicagodf['Month'] = chicagodf['date2'].dt.month\n",
        "chicagodf['Day'] = chicagodf['date2'].dt.day\n",
        "chicagodf['Hour'] = chicagodf['date2'].dt.hour\n",
        "chicagodf['Minute'] = chicagodf['date2'].dt.minute\n",
        "chicagodf['Second'] = chicagodf['date2'].dt.second \n",
        "chicagodf = chicagodf.drop(['Date'], axis=1) \n",
        "chicagodf = chicagodf.drop(['date2'], axis=1) \n",
        "chicagodf = chicagodf.drop(['Updated On'], axis=1)\n",
        "chicagodf.head()"
      ],
      "execution_count": 55,
      "outputs": [
        {
          "output_type": "execute_result",
          "data": {
            "text/html": [
              "<div>\n",
              "<style scoped>\n",
              "    .dataframe tbody tr th:only-of-type {\n",
              "        vertical-align: middle;\n",
              "    }\n",
              "\n",
              "    .dataframe tbody tr th {\n",
              "        vertical-align: top;\n",
              "    }\n",
              "\n",
              "    .dataframe thead th {\n",
              "        text-align: right;\n",
              "    }\n",
              "</style>\n",
              "<table border=\"1\" class=\"dataframe\">\n",
              "  <thead>\n",
              "    <tr style=\"text-align: right;\">\n",
              "      <th></th>\n",
              "      <th>Block</th>\n",
              "      <th>IUCR</th>\n",
              "      <th>Primary Type</th>\n",
              "      <th>Description</th>\n",
              "      <th>Location Description</th>\n",
              "      <th>Arrest</th>\n",
              "      <th>Domestic</th>\n",
              "      <th>Beat</th>\n",
              "      <th>District</th>\n",
              "      <th>Ward</th>\n",
              "      <th>Community Area</th>\n",
              "      <th>FBI Code</th>\n",
              "      <th>X Coordinate</th>\n",
              "      <th>Y Coordinate</th>\n",
              "      <th>Year</th>\n",
              "      <th>Latitude</th>\n",
              "      <th>Longitude</th>\n",
              "      <th>Location</th>\n",
              "      <th>Month</th>\n",
              "      <th>Day</th>\n",
              "      <th>Hour</th>\n",
              "      <th>Minute</th>\n",
              "      <th>Second</th>\n",
              "    </tr>\n",
              "  </thead>\n",
              "  <tbody>\n",
              "    <tr>\n",
              "      <th>1291857</th>\n",
              "      <td>0000X W CHICAGO AVE</td>\n",
              "      <td>1310</td>\n",
              "      <td>CRIMINAL DAMAGE</td>\n",
              "      <td>TO PROPERTY</td>\n",
              "      <td>APARTMENT</td>\n",
              "      <td>False</td>\n",
              "      <td>False</td>\n",
              "      <td>1832</td>\n",
              "      <td>18.0</td>\n",
              "      <td>42.0</td>\n",
              "      <td>8.0</td>\n",
              "      <td>14</td>\n",
              "      <td>1175959.0</td>\n",
              "      <td>1.90572e+06</td>\n",
              "      <td>2008</td>\n",
              "      <td>41.8967</td>\n",
              "      <td>-87.629175</td>\n",
              "      <td>(41.896664035, -87.629175344)</td>\n",
              "      <td>5</td>\n",
              "      <td>4</td>\n",
              "      <td>9</td>\n",
              "      <td>30</td>\n",
              "      <td>0</td>\n",
              "    </tr>\n",
              "    <tr>\n",
              "      <th>20796</th>\n",
              "      <td>083XX S BURLEY AVE</td>\n",
              "      <td>0486</td>\n",
              "      <td>BATTERY</td>\n",
              "      <td>DOMESTIC BATTERY SIMPLE</td>\n",
              "      <td>RESIDENCE</td>\n",
              "      <td>False</td>\n",
              "      <td>False</td>\n",
              "      <td>424</td>\n",
              "      <td>4.0</td>\n",
              "      <td>10.0</td>\n",
              "      <td>46.0</td>\n",
              "      <td>08B</td>\n",
              "      <td>1199261.0</td>\n",
              "      <td>1.85027e+06</td>\n",
              "      <td>2016</td>\n",
              "      <td>41.7439</td>\n",
              "      <td>-87.545461</td>\n",
              "      <td>(41.743945173, -87.545460671)</td>\n",
              "      <td>5</td>\n",
              "      <td>29</td>\n",
              "      <td>14</td>\n",
              "      <td>0</td>\n",
              "      <td>0</td>\n",
              "    </tr>\n",
              "    <tr>\n",
              "      <th>1525209</th>\n",
              "      <td>037XX W DICKENS AVE</td>\n",
              "      <td>0810</td>\n",
              "      <td>THEFT</td>\n",
              "      <td>OVER $500</td>\n",
              "      <td>RESIDENCE</td>\n",
              "      <td>False</td>\n",
              "      <td>False</td>\n",
              "      <td>2525</td>\n",
              "      <td>25.0</td>\n",
              "      <td>26.0</td>\n",
              "      <td>22.0</td>\n",
              "      <td>06</td>\n",
              "      <td>1151021.0</td>\n",
              "      <td>1.91369e+06</td>\n",
              "      <td>2005</td>\n",
              "      <td>41.9191</td>\n",
              "      <td>-87.720559</td>\n",
              "      <td>(41.919067828, -87.720559396)</td>\n",
              "      <td>6</td>\n",
              "      <td>21</td>\n",
              "      <td>0</td>\n",
              "      <td>45</td>\n",
              "      <td>0</td>\n",
              "    </tr>\n",
              "    <tr>\n",
              "      <th>450534</th>\n",
              "      <td>036XX W CERMAK RD</td>\n",
              "      <td>0610</td>\n",
              "      <td>BURGLARY</td>\n",
              "      <td>FORCIBLE ENTRY</td>\n",
              "      <td>TAVERN/LIQUOR STORE</td>\n",
              "      <td>False</td>\n",
              "      <td>False</td>\n",
              "      <td>1014</td>\n",
              "      <td>10.0</td>\n",
              "      <td>NaN</td>\n",
              "      <td>NaN</td>\n",
              "      <td>05</td>\n",
              "      <td>1152419.0</td>\n",
              "      <td>1889176.0</td>\n",
              "      <td>2001</td>\n",
              "      <td>41.851760372</td>\n",
              "      <td>-87.716071</td>\n",
              "      <td>(41.851760372, -87.716070912)</td>\n",
              "      <td>12</td>\n",
              "      <td>4</td>\n",
              "      <td>5</td>\n",
              "      <td>50</td>\n",
              "      <td>0</td>\n",
              "    </tr>\n",
              "    <tr>\n",
              "      <th>986115</th>\n",
              "      <td>006XX N TRUMBULL AVE</td>\n",
              "      <td>0486</td>\n",
              "      <td>BATTERY</td>\n",
              "      <td>DOMESTIC BATTERY SIMPLE</td>\n",
              "      <td>RESIDENTIAL YARD (FRONT/BACK)</td>\n",
              "      <td>False</td>\n",
              "      <td>True</td>\n",
              "      <td>1121</td>\n",
              "      <td>11.0</td>\n",
              "      <td>27.0</td>\n",
              "      <td>23.0</td>\n",
              "      <td>08B</td>\n",
              "      <td>1153268.0</td>\n",
              "      <td>1.90397e+06</td>\n",
              "      <td>2016</td>\n",
              "      <td>41.8923</td>\n",
              "      <td>-87.712562</td>\n",
              "      <td>(41.89234541, -87.712562107)</td>\n",
              "      <td>4</td>\n",
              "      <td>9</td>\n",
              "      <td>1</td>\n",
              "      <td>25</td>\n",
              "      <td>0</td>\n",
              "    </tr>\n",
              "  </tbody>\n",
              "</table>\n",
              "</div>"
            ],
            "text/plain": [
              "                        Block  IUCR     Primary Type  ... Hour Minute  Second\n",
              "1291857   0000X W CHICAGO AVE  1310  CRIMINAL DAMAGE  ...    9     30       0\n",
              "20796      083XX S BURLEY AVE  0486          BATTERY  ...   14      0       0\n",
              "1525209   037XX W DICKENS AVE  0810            THEFT  ...    0     45       0\n",
              "450534      036XX W CERMAK RD  0610         BURGLARY  ...    5     50       0\n",
              "986115   006XX N TRUMBULL AVE  0486          BATTERY  ...    1     25       0\n",
              "\n",
              "[5 rows x 23 columns]"
            ]
          },
          "metadata": {
            "tags": []
          },
          "execution_count": 55
        }
      ]
    },
    {
      "cell_type": "code",
      "metadata": {
        "id": "CycbRRcHIElZ"
      },
      "source": [
        "chicagodf['Block'] = pd.factorize(chicagodf[\"Block\"])[0]\n",
        "chicagodf['IUCR'] = pd.factorize(chicagodf[\"IUCR\"])[0]\n",
        "chicagodf['Description'] = pd.factorize(chicagodf[\"Description\"])[0]\n",
        "chicagodf['Location Description'] = pd.factorize(chicagodf[\"Location Description\"])[0]\n",
        "chicagodf['FBI Code'] = pd.factorize(chicagodf[\"FBI Code\"])[0]\n",
        "chicagodf['Location'] = pd.factorize(chicagodf[\"Location\"])[0] "
      ],
      "execution_count": 56,
      "outputs": []
    },
    {
      "cell_type": "code",
      "metadata": {
        "colab": {
          "base_uri": "https://localhost:8080/",
          "height": 522
        },
        "id": "lwgnpoFt5Bqe",
        "outputId": "aeb2503b-661c-48e0-d51e-1d5b03d97731"
      },
      "source": [
        "chicagodf"
      ],
      "execution_count": 57,
      "outputs": [
        {
          "output_type": "execute_result",
          "data": {
            "text/html": [
              "<div>\n",
              "<style scoped>\n",
              "    .dataframe tbody tr th:only-of-type {\n",
              "        vertical-align: middle;\n",
              "    }\n",
              "\n",
              "    .dataframe tbody tr th {\n",
              "        vertical-align: top;\n",
              "    }\n",
              "\n",
              "    .dataframe thead th {\n",
              "        text-align: right;\n",
              "    }\n",
              "</style>\n",
              "<table border=\"1\" class=\"dataframe\">\n",
              "  <thead>\n",
              "    <tr style=\"text-align: right;\">\n",
              "      <th></th>\n",
              "      <th>Block</th>\n",
              "      <th>IUCR</th>\n",
              "      <th>Primary Type</th>\n",
              "      <th>Description</th>\n",
              "      <th>Location Description</th>\n",
              "      <th>Arrest</th>\n",
              "      <th>Domestic</th>\n",
              "      <th>Beat</th>\n",
              "      <th>District</th>\n",
              "      <th>Ward</th>\n",
              "      <th>Community Area</th>\n",
              "      <th>FBI Code</th>\n",
              "      <th>X Coordinate</th>\n",
              "      <th>Y Coordinate</th>\n",
              "      <th>Year</th>\n",
              "      <th>Latitude</th>\n",
              "      <th>Longitude</th>\n",
              "      <th>Location</th>\n",
              "      <th>Month</th>\n",
              "      <th>Day</th>\n",
              "      <th>Hour</th>\n",
              "      <th>Minute</th>\n",
              "      <th>Second</th>\n",
              "    </tr>\n",
              "  </thead>\n",
              "  <tbody>\n",
              "    <tr>\n",
              "      <th>1291857</th>\n",
              "      <td>0</td>\n",
              "      <td>0</td>\n",
              "      <td>CRIMINAL DAMAGE</td>\n",
              "      <td>0</td>\n",
              "      <td>0</td>\n",
              "      <td>False</td>\n",
              "      <td>False</td>\n",
              "      <td>1832</td>\n",
              "      <td>18.0</td>\n",
              "      <td>42.0</td>\n",
              "      <td>8.0</td>\n",
              "      <td>0</td>\n",
              "      <td>1175959.0</td>\n",
              "      <td>1.90572e+06</td>\n",
              "      <td>2008</td>\n",
              "      <td>41.8967</td>\n",
              "      <td>-87.629175</td>\n",
              "      <td>0</td>\n",
              "      <td>5</td>\n",
              "      <td>4</td>\n",
              "      <td>9</td>\n",
              "      <td>30</td>\n",
              "      <td>0</td>\n",
              "    </tr>\n",
              "    <tr>\n",
              "      <th>20796</th>\n",
              "      <td>1</td>\n",
              "      <td>1</td>\n",
              "      <td>BATTERY</td>\n",
              "      <td>1</td>\n",
              "      <td>1</td>\n",
              "      <td>False</td>\n",
              "      <td>False</td>\n",
              "      <td>424</td>\n",
              "      <td>4.0</td>\n",
              "      <td>10.0</td>\n",
              "      <td>46.0</td>\n",
              "      <td>1</td>\n",
              "      <td>1199261.0</td>\n",
              "      <td>1.85027e+06</td>\n",
              "      <td>2016</td>\n",
              "      <td>41.7439</td>\n",
              "      <td>-87.545461</td>\n",
              "      <td>1</td>\n",
              "      <td>5</td>\n",
              "      <td>29</td>\n",
              "      <td>14</td>\n",
              "      <td>0</td>\n",
              "      <td>0</td>\n",
              "    </tr>\n",
              "    <tr>\n",
              "      <th>1525209</th>\n",
              "      <td>2</td>\n",
              "      <td>2</td>\n",
              "      <td>THEFT</td>\n",
              "      <td>2</td>\n",
              "      <td>1</td>\n",
              "      <td>False</td>\n",
              "      <td>False</td>\n",
              "      <td>2525</td>\n",
              "      <td>25.0</td>\n",
              "      <td>26.0</td>\n",
              "      <td>22.0</td>\n",
              "      <td>2</td>\n",
              "      <td>1151021.0</td>\n",
              "      <td>1.91369e+06</td>\n",
              "      <td>2005</td>\n",
              "      <td>41.9191</td>\n",
              "      <td>-87.720559</td>\n",
              "      <td>2</td>\n",
              "      <td>6</td>\n",
              "      <td>21</td>\n",
              "      <td>0</td>\n",
              "      <td>45</td>\n",
              "      <td>0</td>\n",
              "    </tr>\n",
              "    <tr>\n",
              "      <th>450534</th>\n",
              "      <td>3</td>\n",
              "      <td>3</td>\n",
              "      <td>BURGLARY</td>\n",
              "      <td>3</td>\n",
              "      <td>2</td>\n",
              "      <td>False</td>\n",
              "      <td>False</td>\n",
              "      <td>1014</td>\n",
              "      <td>10.0</td>\n",
              "      <td>NaN</td>\n",
              "      <td>NaN</td>\n",
              "      <td>3</td>\n",
              "      <td>1152419.0</td>\n",
              "      <td>1889176.0</td>\n",
              "      <td>2001</td>\n",
              "      <td>41.851760372</td>\n",
              "      <td>-87.716071</td>\n",
              "      <td>3</td>\n",
              "      <td>12</td>\n",
              "      <td>4</td>\n",
              "      <td>5</td>\n",
              "      <td>50</td>\n",
              "      <td>0</td>\n",
              "    </tr>\n",
              "    <tr>\n",
              "      <th>986115</th>\n",
              "      <td>4</td>\n",
              "      <td>1</td>\n",
              "      <td>BATTERY</td>\n",
              "      <td>1</td>\n",
              "      <td>3</td>\n",
              "      <td>False</td>\n",
              "      <td>True</td>\n",
              "      <td>1121</td>\n",
              "      <td>11.0</td>\n",
              "      <td>27.0</td>\n",
              "      <td>23.0</td>\n",
              "      <td>1</td>\n",
              "      <td>1153268.0</td>\n",
              "      <td>1.90397e+06</td>\n",
              "      <td>2016</td>\n",
              "      <td>41.8923</td>\n",
              "      <td>-87.712562</td>\n",
              "      <td>4</td>\n",
              "      <td>4</td>\n",
              "      <td>9</td>\n",
              "      <td>1</td>\n",
              "      <td>25</td>\n",
              "      <td>0</td>\n",
              "    </tr>\n",
              "    <tr>\n",
              "      <th>...</th>\n",
              "      <td>...</td>\n",
              "      <td>...</td>\n",
              "      <td>...</td>\n",
              "      <td>...</td>\n",
              "      <td>...</td>\n",
              "      <td>...</td>\n",
              "      <td>...</td>\n",
              "      <td>...</td>\n",
              "      <td>...</td>\n",
              "      <td>...</td>\n",
              "      <td>...</td>\n",
              "      <td>...</td>\n",
              "      <td>...</td>\n",
              "      <td>...</td>\n",
              "      <td>...</td>\n",
              "      <td>...</td>\n",
              "      <td>...</td>\n",
              "      <td>...</td>\n",
              "      <td>...</td>\n",
              "      <td>...</td>\n",
              "      <td>...</td>\n",
              "      <td>...</td>\n",
              "      <td>...</td>\n",
              "    </tr>\n",
              "    <tr>\n",
              "      <th>832201</th>\n",
              "      <td>426</td>\n",
              "      <td>47</td>\n",
              "      <td>NARCOTICS</td>\n",
              "      <td>44</td>\n",
              "      <td>19</td>\n",
              "      <td>True</td>\n",
              "      <td>False</td>\n",
              "      <td>221</td>\n",
              "      <td>2.0</td>\n",
              "      <td>3.0</td>\n",
              "      <td>38.0</td>\n",
              "      <td>8</td>\n",
              "      <td>1176448.0</td>\n",
              "      <td>1875014.0</td>\n",
              "      <td>2002</td>\n",
              "      <td>41.812390862</td>\n",
              "      <td>-87.628305</td>\n",
              "      <td>959</td>\n",
              "      <td>9</td>\n",
              "      <td>2</td>\n",
              "      <td>10</td>\n",
              "      <td>0</td>\n",
              "      <td>0</td>\n",
              "    </tr>\n",
              "    <tr>\n",
              "      <th>2103919</th>\n",
              "      <td>944</td>\n",
              "      <td>6</td>\n",
              "      <td>OTHER OFFENSE</td>\n",
              "      <td>6</td>\n",
              "      <td>0</td>\n",
              "      <td>False</td>\n",
              "      <td>True</td>\n",
              "      <td>1732</td>\n",
              "      <td>17.0</td>\n",
              "      <td>35.0</td>\n",
              "      <td>21.0</td>\n",
              "      <td>6</td>\n",
              "      <td>1152394.0</td>\n",
              "      <td>1.92172e+06</td>\n",
              "      <td>2010</td>\n",
              "      <td>41.9411</td>\n",
              "      <td>-87.715302</td>\n",
              "      <td>960</td>\n",
              "      <td>5</td>\n",
              "      <td>24</td>\n",
              "      <td>3</td>\n",
              "      <td>30</td>\n",
              "      <td>0</td>\n",
              "    </tr>\n",
              "    <tr>\n",
              "      <th>1220911</th>\n",
              "      <td>945</td>\n",
              "      <td>15</td>\n",
              "      <td>CRIMINAL DAMAGE</td>\n",
              "      <td>15</td>\n",
              "      <td>5</td>\n",
              "      <td>False</td>\n",
              "      <td>False</td>\n",
              "      <td>712</td>\n",
              "      <td>7.0</td>\n",
              "      <td>16.0</td>\n",
              "      <td>68.0</td>\n",
              "      <td>0</td>\n",
              "      <td>1171030.0</td>\n",
              "      <td>1.86404e+06</td>\n",
              "      <td>2008</td>\n",
              "      <td>41.7824</td>\n",
              "      <td>-87.648499</td>\n",
              "      <td>961</td>\n",
              "      <td>3</td>\n",
              "      <td>2</td>\n",
              "      <td>23</td>\n",
              "      <td>42</td>\n",
              "      <td>41</td>\n",
              "    </tr>\n",
              "    <tr>\n",
              "      <th>1153496</th>\n",
              "      <td>946</td>\n",
              "      <td>15</td>\n",
              "      <td>CRIMINAL DAMAGE</td>\n",
              "      <td>15</td>\n",
              "      <td>5</td>\n",
              "      <td>False</td>\n",
              "      <td>False</td>\n",
              "      <td>623</td>\n",
              "      <td>6.0</td>\n",
              "      <td>6.0</td>\n",
              "      <td>69.0</td>\n",
              "      <td>0</td>\n",
              "      <td>1179375.0</td>\n",
              "      <td>1.85372e+06</td>\n",
              "      <td>2007</td>\n",
              "      <td>41.7539</td>\n",
              "      <td>-87.618219</td>\n",
              "      <td>962</td>\n",
              "      <td>8</td>\n",
              "      <td>21</td>\n",
              "      <td>9</td>\n",
              "      <td>30</td>\n",
              "      <td>0</td>\n",
              "    </tr>\n",
              "    <tr>\n",
              "      <th>1210612</th>\n",
              "      <td>947</td>\n",
              "      <td>0</td>\n",
              "      <td>CRIMINAL DAMAGE</td>\n",
              "      <td>0</td>\n",
              "      <td>1</td>\n",
              "      <td>False</td>\n",
              "      <td>False</td>\n",
              "      <td>1612</td>\n",
              "      <td>16.0</td>\n",
              "      <td>41.0</td>\n",
              "      <td>9.0</td>\n",
              "      <td>0</td>\n",
              "      <td>1123798.0</td>\n",
              "      <td>1942094.0</td>\n",
              "      <td>2003</td>\n",
              "      <td>41.997490993</td>\n",
              "      <td>-87.819957</td>\n",
              "      <td>963</td>\n",
              "      <td>7</td>\n",
              "      <td>11</td>\n",
              "      <td>22</td>\n",
              "      <td>45</td>\n",
              "      <td>0</td>\n",
              "    </tr>\n",
              "  </tbody>\n",
              "</table>\n",
              "<p>1000 rows × 23 columns</p>\n",
              "</div>"
            ],
            "text/plain": [
              "         Block  IUCR     Primary Type  Description  ...  Day  Hour  Minute  Second\n",
              "1291857      0     0  CRIMINAL DAMAGE            0  ...    4     9      30       0\n",
              "20796        1     1          BATTERY            1  ...   29    14       0       0\n",
              "1525209      2     2            THEFT            2  ...   21     0      45       0\n",
              "450534       3     3         BURGLARY            3  ...    4     5      50       0\n",
              "986115       4     1          BATTERY            1  ...    9     1      25       0\n",
              "...        ...   ...              ...          ...  ...  ...   ...     ...     ...\n",
              "832201     426    47        NARCOTICS           44  ...    2    10       0       0\n",
              "2103919    944     6    OTHER OFFENSE            6  ...   24     3      30       0\n",
              "1220911    945    15  CRIMINAL DAMAGE           15  ...    2    23      42      41\n",
              "1153496    946    15  CRIMINAL DAMAGE           15  ...   21     9      30       0\n",
              "1210612    947     0  CRIMINAL DAMAGE            0  ...   11    22      45       0\n",
              "\n",
              "[1000 rows x 23 columns]"
            ]
          },
          "metadata": {
            "tags": []
          },
          "execution_count": 57
        }
      ]
    },
    {
      "cell_type": "code",
      "metadata": {
        "id": "OtG6afemCIFs",
        "colab": {
          "base_uri": "https://localhost:8080/"
        },
        "outputId": "8c0a5c0d-ff44-41d8-eeb1-b7b2d8b89eb9"
      },
      "source": [
        "target = 'Primary Type'\n",
        "print('Target: ', target)"
      ],
      "execution_count": 58,
      "outputs": [
        {
          "output_type": "stream",
          "text": [
            "Target:  Primary Type\n"
          ],
          "name": "stdout"
        }
      ]
    },
    {
      "cell_type": "code",
      "metadata": {
        "colab": {
          "base_uri": "https://localhost:8080/",
          "height": 432
        },
        "id": "D6kcmijfJ_AZ",
        "outputId": "5d57a547-c7bf-4e02-d71a-ca9449a97ab9"
      },
      "source": [
        "all_classes = chicagodf.groupby(['Primary Type'])['Block'].size().reset_index()\n",
        "all_classes['Amt'] = all_classes['Block']\n",
        "all_classes = all_classes.drop(['Block'], axis=1)\n",
        "all_classes = all_classes.sort_values(['Amt'], ascending=[False])\n",
        "\n",
        "unwanted_classes = all_classes.tail(13)\n",
        "unwanted_classes"
      ],
      "execution_count": 59,
      "outputs": [
        {
          "output_type": "execute_result",
          "data": {
            "text/html": [
              "<div>\n",
              "<style scoped>\n",
              "    .dataframe tbody tr th:only-of-type {\n",
              "        vertical-align: middle;\n",
              "    }\n",
              "\n",
              "    .dataframe tbody tr th {\n",
              "        vertical-align: top;\n",
              "    }\n",
              "\n",
              "    .dataframe thead th {\n",
              "        text-align: right;\n",
              "    }\n",
              "</style>\n",
              "<table border=\"1\" class=\"dataframe\">\n",
              "  <thead>\n",
              "    <tr style=\"text-align: right;\">\n",
              "      <th></th>\n",
              "      <th>Primary Type</th>\n",
              "      <th>Amt</th>\n",
              "    </tr>\n",
              "  </thead>\n",
              "  <tbody>\n",
              "    <tr>\n",
              "      <th>7</th>\n",
              "      <td>DECEPTIVE PRACTICE</td>\n",
              "      <td>25</td>\n",
              "    </tr>\n",
              "    <tr>\n",
              "      <th>22</th>\n",
              "      <td>WEAPONS VIOLATION</td>\n",
              "      <td>13</td>\n",
              "    </tr>\n",
              "    <tr>\n",
              "      <th>17</th>\n",
              "      <td>PROSTITUTION</td>\n",
              "      <td>8</td>\n",
              "    </tr>\n",
              "    <tr>\n",
              "      <th>20</th>\n",
              "      <td>SEX OFFENSE</td>\n",
              "      <td>6</td>\n",
              "    </tr>\n",
              "    <tr>\n",
              "      <th>15</th>\n",
              "      <td>OFFENSE INVOLVING CHILDREN</td>\n",
              "      <td>5</td>\n",
              "    </tr>\n",
              "    <tr>\n",
              "      <th>18</th>\n",
              "      <td>PUBLIC PEACE VIOLATION</td>\n",
              "      <td>5</td>\n",
              "    </tr>\n",
              "    <tr>\n",
              "      <th>8</th>\n",
              "      <td>GAMBLING</td>\n",
              "      <td>4</td>\n",
              "    </tr>\n",
              "    <tr>\n",
              "      <th>12</th>\n",
              "      <td>LIQUOR LAW VIOLATION</td>\n",
              "      <td>3</td>\n",
              "    </tr>\n",
              "    <tr>\n",
              "      <th>10</th>\n",
              "      <td>INTERFERENCE WITH PUBLIC OFFICER</td>\n",
              "      <td>3</td>\n",
              "    </tr>\n",
              "    <tr>\n",
              "      <th>0</th>\n",
              "      <td>ARSON</td>\n",
              "      <td>2</td>\n",
              "    </tr>\n",
              "    <tr>\n",
              "      <th>4</th>\n",
              "      <td>CRIM SEXUAL ASSAULT</td>\n",
              "      <td>2</td>\n",
              "    </tr>\n",
              "    <tr>\n",
              "      <th>9</th>\n",
              "      <td>HOMICIDE</td>\n",
              "      <td>1</td>\n",
              "    </tr>\n",
              "    <tr>\n",
              "      <th>11</th>\n",
              "      <td>KIDNAPPING</td>\n",
              "      <td>1</td>\n",
              "    </tr>\n",
              "  </tbody>\n",
              "</table>\n",
              "</div>"
            ],
            "text/plain": [
              "                        Primary Type  Amt\n",
              "7                 DECEPTIVE PRACTICE   25\n",
              "22                 WEAPONS VIOLATION   13\n",
              "17                      PROSTITUTION    8\n",
              "20                       SEX OFFENSE    6\n",
              "15        OFFENSE INVOLVING CHILDREN    5\n",
              "18            PUBLIC PEACE VIOLATION    5\n",
              "8                           GAMBLING    4\n",
              "12              LIQUOR LAW VIOLATION    3\n",
              "10  INTERFERENCE WITH PUBLIC OFFICER    3\n",
              "0                              ARSON    2\n",
              "4                CRIM SEXUAL ASSAULT    2\n",
              "9                           HOMICIDE    1\n",
              "11                        KIDNAPPING    1"
            ]
          },
          "metadata": {
            "tags": []
          },
          "execution_count": 59
        }
      ]
    },
    {
      "cell_type": "code",
      "metadata": {
        "id": "48N1sFF5AgH9"
      },
      "source": [
        "chicagodf.loc[chicagodf['Primary Type'].isin(unwanted_classes['Primary Type']), 'Primary Type'] = 'OTHERS'"
      ],
      "execution_count": 60,
      "outputs": []
    },
    {
      "cell_type": "code",
      "metadata": {
        "id": "5axEzGNkC1Y7",
        "colab": {
          "base_uri": "https://localhost:8080/"
        },
        "outputId": "e136223d-d62c-4dbc-f6f8-af4aee31b6db"
      },
      "source": [
        "Classes = chicagodf['Primary Type'].unique()\n",
        "Classes"
      ],
      "execution_count": 61,
      "outputs": [
        {
          "output_type": "execute_result",
          "data": {
            "text/plain": [
              "array(['CRIMINAL DAMAGE', 'BATTERY', 'THEFT', 'BURGLARY', 'ASSAULT',\n",
              "       'MOTOR VEHICLE THEFT', 'OTHER OFFENSE', 'ROBBERY', 'NARCOTICS',\n",
              "       'CRIMINAL TRESPASS', 'OTHERS'], dtype=object)"
            ]
          },
          "metadata": {
            "tags": []
          },
          "execution_count": 61
        }
      ]
    },
    {
      "cell_type": "code",
      "metadata": {
        "colab": {
          "base_uri": "https://localhost:8080/"
        },
        "id": "R7QQ-RdUAAx3",
        "outputId": "ada0001b-46ee-4d47-a93b-350fca633fb5"
      },
      "source": [
        "chicagodf['Primary Type'] = pd.factorize(chicagodf[\"Primary Type\"])[0] \n",
        "chicagodf['Primary Type'].unique()"
      ],
      "execution_count": 62,
      "outputs": [
        {
          "output_type": "execute_result",
          "data": {
            "text/plain": [
              "array([ 0,  1,  2,  3,  4,  5,  6,  7,  8,  9, 10])"
            ]
          },
          "metadata": {
            "tags": []
          },
          "execution_count": 62
        }
      ]
    },
    {
      "cell_type": "code",
      "metadata": {
        "id": "SkjNYCUdDUmf"
      },
      "source": [
        "features = [\"IUCR\", \"Description\", \"FBI Code\"]"
      ],
      "execution_count": 63,
      "outputs": []
    },
    {
      "cell_type": "code",
      "metadata": {
        "id": "YGQKxeAPMtXx"
      },
      "source": [
        "x, y = train_test_split(chicagodf, \n",
        "                        test_size = 0.2, \n",
        "                        train_size = 0.8, \n",
        "                        random_state= 7)"
      ],
      "execution_count": 64,
      "outputs": []
    },
    {
      "cell_type": "code",
      "metadata": {
        "id": "T8C5UR7o_rI-"
      },
      "source": [
        "x1 = x[features]    \n",
        "x2 = x[target]      \n",
        "y1 = y[features]    \n",
        "y2 = y[target]"
      ],
      "execution_count": 65,
      "outputs": []
    },
    {
      "cell_type": "code",
      "metadata": {
        "colab": {
          "base_uri": "https://localhost:8080/"
        },
        "id": "TpfwD9KP_zso",
        "outputId": "5dd90fc2-2c40-47b1-ed0f-94ce58578ca2"
      },
      "source": [
        "print('Training Set Size   : ', x.shape)\n",
        "print('Test Set Size       : ', y.shape)"
      ],
      "execution_count": 66,
      "outputs": [
        {
          "output_type": "stream",
          "text": [
            "Training Set Size   :  (800, 23)\n",
            "Test Set Size       :  (200, 23)\n"
          ],
          "name": "stdout"
        }
      ]
    },
    {
      "cell_type": "code",
      "metadata": {
        "colab": {
          "base_uri": "https://localhost:8080/"
        },
        "id": "UkeWwmU1_6zd",
        "outputId": "abb70a4e-921b-49cc-fb1b-5cd272d93a10"
      },
      "source": [
        "random_forest_model = RandomForestClassifier(n_estimators=10, # Number of trees\n",
        "                                  min_samples_split = 60,\n",
        "                                  bootstrap = True, \n",
        "                                  max_depth = 50, \n",
        "                                  min_samples_leaf = 30)\n",
        "\n",
        "\n",
        "random_forest_model.fit(X=x1,y=x2)"
      ],
      "execution_count": 67,
      "outputs": [
        {
          "output_type": "execute_result",
          "data": {
            "text/plain": [
              "RandomForestClassifier(bootstrap=True, ccp_alpha=0.0, class_weight=None,\n",
              "                       criterion='gini', max_depth=50, max_features='auto',\n",
              "                       max_leaf_nodes=None, max_samples=None,\n",
              "                       min_impurity_decrease=0.0, min_impurity_split=None,\n",
              "                       min_samples_leaf=30, min_samples_split=60,\n",
              "                       min_weight_fraction_leaf=0.0, n_estimators=10,\n",
              "                       n_jobs=None, oob_score=False, random_state=None,\n",
              "                       verbose=0, warm_start=False)"
            ]
          },
          "metadata": {
            "tags": []
          },
          "execution_count": 67
        }
      ]
    },
    {
      "cell_type": "code",
      "metadata": {
        "id": "1OFF5WEZDpbx"
      },
      "source": [
        "\n",
        "result = random_forest_model.predict(y[features])"
      ],
      "execution_count": 68,
      "outputs": []
    },
    {
      "cell_type": "code",
      "metadata": {
        "colab": {
          "base_uri": "https://localhost:8080/"
        },
        "id": "ZCdTusy2E5Go",
        "outputId": "c746f186-e735-4d32-c8c0-7d95bf3aa492"
      },
      "source": [
        "accuracy_sc = accuracy_score(y2, result)\n",
        "recall_sc = recall_score(y2, result, average=\"weighted\")\n",
        "precision_sc = precision_score(y2, result, average=\"weighted\")\n",
        "f1_sc = f1_score(y2, result, average='micro')\n",
        "confusion_m = confusion_matrix(y2, result)\n",
        "\n",
        "print(\"========== Random Forest Results ==========\")\n",
        "print(\"Accuracy    : \", accuracy_sc)\n",
        "print(\"Recall      : \", recall_sc)\n",
        "print(\"Precision   : \", precision_sc)\n",
        "print(\"F1 Score    : \", f1_sc)\n",
        "print(\"Confusion Matrix: \")\n",
        "print(confusion_m)"
      ],
      "execution_count": 69,
      "outputs": [
        {
          "output_type": "stream",
          "text": [
            "========== Random Forest Results ==========\n",
            "Accuracy    :  0.71\n",
            "Recall      :  0.71\n",
            "Precision   :  0.6971628729242894\n",
            "F1 Score    :  0.7100000000000001\n",
            "Confusion Matrix: \n",
            "[[15 16  0  0  0  0  0  0  0  0  0]\n",
            " [ 4 32  0  0  0  0  0  1  2  0  0]\n",
            " [ 0  0 39  0  0  0  0  0  0  0  0]\n",
            " [ 0  0  0  9  0  0  0  1  0  0  0]\n",
            " [ 0  0  0  8  0  0  0  0  0  0  3]\n",
            " [ 0  0  0  0  0  8  0  0  1  0  0]\n",
            " [ 0  0  0  0  0  1  5  2  7  0  0]\n",
            " [ 0  0  0  0  0  0  0  4  2  0  0]\n",
            " [ 0  0  0  0  0  0  0  3 15  0  0]\n",
            " [ 0  0  0  0  0  2  0  0  5  0  0]\n",
            " [ 0  0  0  0  0  0  0  0  0  0 15]]\n"
          ],
          "name": "stdout"
        },
        {
          "output_type": "stream",
          "text": [
            "/usr/local/lib/python3.7/dist-packages/sklearn/metrics/_classification.py:1272: UndefinedMetricWarning: Precision is ill-defined and being set to 0.0 in labels with no predicted samples. Use `zero_division` parameter to control this behavior.\n",
            "  _warn_prf(average, modifier, msg_start, len(result))\n"
          ],
          "name": "stderr"
        }
      ]
    },
    {
      "cell_type": "code",
      "metadata": {
        "colab": {
          "base_uri": "https://localhost:8080/",
          "height": 692
        },
        "id": "WEEumuLC-Xiq",
        "outputId": "452fe018-500d-405b-9e61-72e7c94073c1"
      },
      "source": [
        "target_names = Classes\n",
        "visualizer = ClassificationReport(random_forest_model, classes=target_names)\n",
        "visualizer.fit(X=x1, y=x2)     # Fit the training data to the visualizer\n",
        "visualizer.score(y1, y2)       # Evaluate the model on the test data\n",
        "\n",
        "print('================= Classification Report =================')\n",
        "print('')\n",
        "print(classification_report(y2, result, target_names=target_names))"
      ],
      "execution_count": 70,
      "outputs": [
        {
          "output_type": "stream",
          "text": [
            "================= Classification Report =================\n",
            "\n",
            "                     precision    recall  f1-score   support\n",
            "\n",
            "    CRIMINAL DAMAGE       0.79      0.48      0.60        31\n",
            "            BATTERY       0.67      0.82      0.74        39\n",
            "              THEFT       1.00      1.00      1.00        39\n",
            "           BURGLARY       0.53      0.90      0.67        10\n",
            "            ASSAULT       0.00      0.00      0.00        11\n",
            "MOTOR VEHICLE THEFT       0.73      0.89      0.80         9\n",
            "      OTHER OFFENSE       1.00      0.33      0.50        15\n",
            "            ROBBERY       0.36      0.67      0.47         6\n",
            "          NARCOTICS       0.47      0.83      0.60        18\n",
            "  CRIMINAL TRESPASS       0.00      0.00      0.00         7\n",
            "             OTHERS       0.83      1.00      0.91        15\n",
            "\n",
            "           accuracy                           0.71       200\n",
            "          macro avg       0.58      0.63      0.57       200\n",
            "       weighted avg       0.70      0.71      0.67       200\n",
            "\n"
          ],
          "name": "stdout"
        },
        {
          "output_type": "stream",
          "text": [
            "/usr/local/lib/python3.7/dist-packages/sklearn/metrics/_classification.py:1272: UndefinedMetricWarning: Precision and F-score are ill-defined and being set to 0.0 in labels with no predicted samples. Use `zero_division` parameter to control this behavior.\n",
            "  _warn_prf(average, modifier, msg_start, len(result))\n",
            "/usr/local/lib/python3.7/dist-packages/sklearn/metrics/_classification.py:1272: UndefinedMetricWarning: Precision and F-score are ill-defined and being set to 0.0 in labels with no predicted samples. Use `zero_division` parameter to control this behavior.\n",
            "  _warn_prf(average, modifier, msg_start, len(result))\n"
          ],
          "name": "stderr"
        },
        {
          "output_type": "display_data",
          "data": {
            "image/png": "[encoded data removed]",
            "text/plain": [
              "<Figure size 432x288 with 2 Axes>"
            ]
          },
          "metadata": {
            "tags": [],
            "needs_background": "light"
          }
        }
      ]
    }
  ]
}